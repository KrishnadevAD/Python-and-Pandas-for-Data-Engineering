{
 "cells": [
  {
   "cell_type": "markdown",
   "id": "73b54c65",
   "metadata": {},
   "source": [
    "## Creating Dictionaries"
   ]
  },
  {
   "cell_type": "code",
   "execution_count": 1,
   "id": "2da539b7",
   "metadata": {},
   "outputs": [],
   "source": [
    "key_1 = \" krishnadev\""
   ]
  },
  {
   "cell_type": "code",
   "execution_count": 4,
   "id": "fb23d7cc",
   "metadata": {},
   "outputs": [
    {
     "data": {
      "text/plain": [
       "-8018951258725449395"
      ]
     },
     "execution_count": 4,
     "metadata": {},
     "output_type": "execute_result"
    }
   ],
   "source": [
    "key_1.__hash__() # hash function"
   ]
  },
  {
   "cell_type": "code",
   "execution_count": 5,
   "id": "aa20c0b8",
   "metadata": {},
   "outputs": [
    {
     "data": {
      "text/plain": [
       "{}"
      ]
     },
     "execution_count": 5,
     "metadata": {},
     "output_type": "execute_result"
    }
   ],
   "source": [
    "dict()"
   ]
  },
  {
   "cell_type": "code",
   "execution_count": 7,
   "id": "d82a7939",
   "metadata": {},
   "outputs": [
    {
     "data": {
      "text/plain": [
       "{'name': 'krishnadev', 'age': '23'}"
      ]
     },
     "execution_count": 7,
     "metadata": {},
     "output_type": "execute_result"
    }
   ],
   "source": [
    "dict(name=\"krishnadev\",age=\"23\")"
   ]
  },
  {
   "cell_type": "code",
   "execution_count": 8,
   "id": "9a1784ea",
   "metadata": {},
   "outputs": [
    {
     "data": {
      "text/plain": [
       "{'name': 'krishnadev', 'age': 23}"
      ]
     },
     "execution_count": 8,
     "metadata": {},
     "output_type": "execute_result"
    }
   ],
   "source": [
    "dict([[\"name\",\"krishnadev\"],[\"age\",23]])"
   ]
  },
  {
   "cell_type": "code",
   "execution_count": 9,
   "id": "854a37f3",
   "metadata": {},
   "outputs": [
    {
     "data": {
      "text/plain": [
       "True"
      ]
     },
     "execution_count": 9,
     "metadata": {},
     "output_type": "execute_result"
    }
   ],
   "source": [
    "dict([[\"name\",\"krishnadev\"],[\"age\",23]])==dict([[\"name\",\"krishnadev\"],[\"age\",23]])"
   ]
  },
  {
   "cell_type": "markdown",
   "id": "b284e9ed",
   "metadata": {},
   "source": [
    "### accessing dictionary data in Python"
   ]
  },
  {
   "cell_type": "code",
   "execution_count": 4,
   "id": "0ced8fec",
   "metadata": {},
   "outputs": [],
   "source": [
    "student ={\n",
    "    'name':\"krishnadev\",\n",
    "    'age':23,\n",
    "    \"major\":\"engineering\"\n",
    "}"
   ]
  },
  {
   "cell_type": "code",
   "execution_count": 5,
   "id": "9a26b29b",
   "metadata": {},
   "outputs": [
    {
     "data": {
      "text/plain": [
       "23"
      ]
     },
     "execution_count": 5,
     "metadata": {},
     "output_type": "execute_result"
    }
   ],
   "source": [
    "student[\"age\"]"
   ]
  },
  {
   "cell_type": "code",
   "execution_count": 7,
   "id": "dfe5570a",
   "metadata": {},
   "outputs": [
    {
     "data": {
      "text/plain": [
       "'krishnadev'"
      ]
     },
     "execution_count": 7,
     "metadata": {},
     "output_type": "execute_result"
    }
   ],
   "source": [
    "student[\"name\"]"
   ]
  },
  {
   "cell_type": "code",
   "execution_count": 8,
   "id": "b55acf56",
   "metadata": {},
   "outputs": [
    {
     "data": {
      "text/plain": [
       "23"
      ]
     },
     "execution_count": 8,
     "metadata": {},
     "output_type": "execute_result"
    }
   ],
   "source": [
    "student.get(\"age\")"
   ]
  },
  {
   "cell_type": "code",
   "execution_count": 9,
   "id": "6d5fa34c",
   "metadata": {},
   "outputs": [
    {
     "data": {
      "text/plain": [
       "23"
      ]
     },
     "execution_count": 9,
     "metadata": {},
     "output_type": "execute_result"
    }
   ],
   "source": [
    "student.get(\"age\",\"missing key\")"
   ]
  },
  {
   "cell_type": "code",
   "execution_count": 11,
   "id": "c8a89688",
   "metadata": {},
   "outputs": [],
   "source": [
    "pet_info = { 'Name': 'Charlie', \n",
    "             'Species': 'Dog'}\n",
    "pet_info.get(0)"
   ]
  },
  {
   "cell_type": "code",
   "execution_count": 12,
   "id": "8e6e56e4",
   "metadata": {},
   "outputs": [
    {
     "data": {
      "text/plain": [
       "'Economics'"
      ]
     },
     "execution_count": 12,
     "metadata": {},
     "output_type": "execute_result"
    }
   ],
   "source": [
    "student = { 'Name': 'Chris',\n",
    "            'Major': 'Math'}\n",
    "student['Major'] = 'Economics'\n",
    "student.get('Major', 'Math')"
   ]
  },
  {
   "cell_type": "markdown",
   "id": "49c1d89f",
   "metadata": {},
   "source": [
    "### dictionary view in python"
   ]
  },
  {
   "cell_type": "code",
   "execution_count": 13,
   "id": "aedbbee5",
   "metadata": {},
   "outputs": [],
   "source": [
    "student ={\n",
    "    'name':\"Krishnadev\",\n",
    "    'age':23,\n",
    "    'major':\"maths\"\n",
    "}"
   ]
  },
  {
   "cell_type": "code",
   "execution_count": 15,
   "id": "70e844d0",
   "metadata": {},
   "outputs": [
    {
     "data": {
      "text/plain": [
       "dict_keys(['name', 'age', 'major'])"
      ]
     },
     "execution_count": 15,
     "metadata": {},
     "output_type": "execute_result"
    }
   ],
   "source": [
    "student.keys()"
   ]
  },
  {
   "cell_type": "code",
   "execution_count": 16,
   "id": "6eeac86f",
   "metadata": {},
   "outputs": [
    {
     "data": {
      "text/plain": [
       "dict_values(['Krishnadev', 23, 'maths'])"
      ]
     },
     "execution_count": 16,
     "metadata": {},
     "output_type": "execute_result"
    }
   ],
   "source": [
    "student.values()"
   ]
  },
  {
   "cell_type": "code",
   "execution_count": 17,
   "id": "627e60bf",
   "metadata": {},
   "outputs": [
    {
     "data": {
      "text/plain": [
       "dict_items([('name', 'Krishnadev'), ('age', 23), ('major', 'maths')])"
      ]
     },
     "execution_count": 17,
     "metadata": {},
     "output_type": "execute_result"
    }
   ],
   "source": [
    "student.items()"
   ]
  },
  {
   "cell_type": "code",
   "execution_count": 19,
   "id": "b27ac913",
   "metadata": {},
   "outputs": [
    {
     "data": {
      "text/plain": [
       "True"
      ]
     },
     "execution_count": 19,
     "metadata": {},
     "output_type": "execute_result"
    }
   ],
   "source": [
    "'name' in student.keys()"
   ]
  },
  {
   "cell_type": "code",
   "execution_count": 20,
   "id": "2413f724",
   "metadata": {},
   "outputs": [
    {
     "data": {
      "text/plain": [
       "True"
      ]
     },
     "execution_count": 20,
     "metadata": {},
     "output_type": "execute_result"
    }
   ],
   "source": [
    "'name'in student"
   ]
  },
  {
   "cell_type": "markdown",
   "id": "9a4f3289",
   "metadata": {},
   "source": [
    "## set and sets"
   ]
  },
  {
   "cell_type": "code",
   "execution_count": 21,
   "id": "f3deba0b",
   "metadata": {},
   "outputs": [
    {
     "data": {
      "text/plain": [
       "{'a', 'b', 'c'}"
      ]
     },
     "execution_count": 21,
     "metadata": {},
     "output_type": "execute_result"
    }
   ],
   "source": [
    "set(\"aaabbbccc\")"
   ]
  },
  {
   "cell_type": "code",
   "execution_count": 22,
   "id": "941c4b2f",
   "metadata": {},
   "outputs": [
    {
     "data": {
      "text/plain": [
       "{'k', 'r', 's'}"
      ]
     },
     "execution_count": 22,
     "metadata": {},
     "output_type": "execute_result"
    }
   ],
   "source": [
    "{'s','k','r'}"
   ]
  },
  {
   "cell_type": "code",
   "execution_count": 24,
   "id": "0b4fa627",
   "metadata": {},
   "outputs": [],
   "source": [
    "s=set('aaaaaabbbbbbcccccccccc')"
   ]
  },
  {
   "cell_type": "code",
   "execution_count": 27,
   "id": "ef3f0c5e",
   "metadata": {},
   "outputs": [],
   "source": [
    "s.add(\"d\")"
   ]
  },
  {
   "cell_type": "markdown",
   "id": "455f0167",
   "metadata": {},
   "source": [
    "##### to check the disjoint of the set"
   ]
  },
  {
   "cell_type": "code",
   "execution_count": 29,
   "id": "274645b9",
   "metadata": {},
   "outputs": [
    {
     "data": {
      "text/plain": [
       "{0, 1, 2}"
      ]
     },
     "execution_count": 29,
     "metadata": {},
     "output_type": "execute_result"
    }
   ],
   "source": [
    "s1 =set(range(3))\n",
    "s1"
   ]
  },
  {
   "cell_type": "code",
   "execution_count": 31,
   "id": "86b288d0",
   "metadata": {},
   "outputs": [
    {
     "data": {
      "text/plain": [
       "{'a', 'd', 'e', 'h', 'k', 'n', 'r', 's', 'v'}"
      ]
     },
     "execution_count": 31,
     "metadata": {},
     "output_type": "execute_result"
    }
   ],
   "source": [
    "s2 =set(\"krshnadev\")\n",
    "s2"
   ]
  },
  {
   "cell_type": "code",
   "execution_count": 33,
   "id": "1e040e2b",
   "metadata": {},
   "outputs": [
    {
     "data": {
      "text/plain": [
       "True"
      ]
     },
     "execution_count": 33,
     "metadata": {},
     "output_type": "execute_result"
    }
   ],
   "source": [
    "s1.isdisjoint(s2)"
   ]
  },
  {
   "cell_type": "markdown",
   "id": "9daa5404",
   "metadata": {},
   "source": [
    "#### to check the disjoint of the set"
   ]
  },
  {
   "cell_type": "code",
   "execution_count": 34,
   "id": "d9929bc7",
   "metadata": {},
   "outputs": [
    {
     "data": {
      "text/plain": [
       "{0, 1, 2}"
      ]
     },
     "execution_count": 34,
     "metadata": {},
     "output_type": "execute_result"
    }
   ],
   "source": [
    "s1 =set(range(3))\n",
    "s1"
   ]
  },
  {
   "cell_type": "code",
   "execution_count": 36,
   "id": "49739ae1",
   "metadata": {},
   "outputs": [
    {
     "data": {
      "text/plain": [
       "{0, 1, 2}"
      ]
     },
     "execution_count": 36,
     "metadata": {},
     "output_type": "execute_result"
    }
   ],
   "source": [
    "s2 =set(range(3))\n",
    "s2"
   ]
  },
  {
   "cell_type": "code",
   "execution_count": 37,
   "id": "53a0884a",
   "metadata": {},
   "outputs": [
    {
     "data": {
      "text/plain": [
       "False"
      ]
     },
     "execution_count": 37,
     "metadata": {},
     "output_type": "execute_result"
    }
   ],
   "source": [
    "s1.isdisjoint(s2)"
   ]
  },
  {
   "cell_type": "markdown",
   "id": "a6afb381",
   "metadata": {},
   "source": [
    "### subset"
   ]
  },
  {
   "cell_type": "raw",
   "id": "759129d8",
   "metadata": {},
   "source": [
    "subset--> all items of the first set are found in the second set"
   ]
  },
  {
   "cell_type": "code",
   "execution_count": 39,
   "id": "29c1cc47",
   "metadata": {},
   "outputs": [
    {
     "data": {
      "text/plain": [
       "{0, 1, 2, 3, 4, 5, 6, 7, 8, 9}"
      ]
     },
     "execution_count": 39,
     "metadata": {},
     "output_type": "execute_result"
    }
   ],
   "source": [
    "s1=set(range(10))\n",
    "s1"
   ]
  },
  {
   "cell_type": "code",
   "execution_count": 41,
   "id": "0aacc525",
   "metadata": {},
   "outputs": [
    {
     "data": {
      "text/plain": [
       "{2, 3, 4, 5}"
      ]
     },
     "execution_count": 41,
     "metadata": {},
     "output_type": "execute_result"
    }
   ],
   "source": [
    "s2=set(range(2,6))\n",
    "s2"
   ]
  },
  {
   "cell_type": "code",
   "execution_count": 43,
   "id": "34d02a47",
   "metadata": {},
   "outputs": [
    {
     "data": {
      "text/plain": [
       "True"
      ]
     },
     "execution_count": 43,
     "metadata": {},
     "output_type": "execute_result"
    }
   ],
   "source": [
    "s2.issubset(s1)# all item of s2 are in s1"
   ]
  },
  {
   "cell_type": "code",
   "execution_count": 45,
   "id": "0d86d589",
   "metadata": {},
   "outputs": [
    {
     "data": {
      "text/plain": [
       "False"
      ]
     },
     "execution_count": 45,
     "metadata": {},
     "output_type": "execute_result"
    }
   ],
   "source": [
    "s1.issubset(s2)#all item of s1 are not in s2"
   ]
  },
  {
   "cell_type": "markdown",
   "id": "e2d4da9e",
   "metadata": {},
   "source": [
    "### superset"
   ]
  },
  {
   "cell_type": "code",
   "execution_count": 47,
   "id": "b95c7a80",
   "metadata": {},
   "outputs": [
    {
     "data": {
      "text/plain": [
       "True"
      ]
     },
     "execution_count": 47,
     "metadata": {},
     "output_type": "execute_result"
    }
   ],
   "source": [
    "s1.issuperset(s2) # all item of second set are found in first"
   ]
  },
  {
   "cell_type": "markdown",
   "id": "e2f56ab2",
   "metadata": {},
   "source": [
    "### union"
   ]
  },
  {
   "cell_type": "code",
   "execution_count": 48,
   "id": "1c2a87ef",
   "metadata": {},
   "outputs": [
    {
     "data": {
      "text/plain": [
       "{0, 1, 2, 3, 4, 5, 6, 7, 8, 9}"
      ]
     },
     "execution_count": 48,
     "metadata": {},
     "output_type": "execute_result"
    }
   ],
   "source": [
    "s1= set(range(10))\n",
    "s1"
   ]
  },
  {
   "cell_type": "code",
   "execution_count": 49,
   "id": "90acfb58",
   "metadata": {},
   "outputs": [
    {
     "data": {
      "text/plain": [
       "{'a', 'd', 'e', 'h', 'i', 'k', 'n', 'r', 's', 'v'}"
      ]
     },
     "execution_count": 49,
     "metadata": {},
     "output_type": "execute_result"
    }
   ],
   "source": [
    "s2 = set(\"krishnadev\")\n",
    "s2"
   ]
  },
  {
   "cell_type": "code",
   "execution_count": 50,
   "id": "d874beb9",
   "metadata": {},
   "outputs": [
    {
     "data": {
      "text/plain": [
       "{0,\n",
       " 1,\n",
       " 2,\n",
       " 3,\n",
       " 4,\n",
       " 5,\n",
       " 6,\n",
       " 7,\n",
       " 8,\n",
       " 9,\n",
       " 'a',\n",
       " 'd',\n",
       " 'e',\n",
       " 'h',\n",
       " 'i',\n",
       " 'k',\n",
       " 'n',\n",
       " 'r',\n",
       " 's',\n",
       " 'v'}"
      ]
     },
     "execution_count": 50,
     "metadata": {},
     "output_type": "execute_result"
    }
   ],
   "source": [
    "s1.union(s2)"
   ]
  },
  {
   "cell_type": "code",
   "execution_count": 51,
   "id": "f4ace210",
   "metadata": {},
   "outputs": [
    {
     "data": {
      "text/plain": [
       "set()"
      ]
     },
     "execution_count": 51,
     "metadata": {},
     "output_type": "execute_result"
    }
   ],
   "source": [
    "s1.intersection(s2)"
   ]
  },
  {
   "cell_type": "code",
   "execution_count": 52,
   "id": "8af2f474",
   "metadata": {},
   "outputs": [
    {
     "data": {
      "text/plain": [
       "{'M', 'i', 'p', 's'}"
      ]
     },
     "execution_count": 52,
     "metadata": {},
     "output_type": "execute_result"
    }
   ],
   "source": [
    "set(\"Mississippi\")"
   ]
  },
  {
   "cell_type": "code",
   "execution_count": 53,
   "id": "695c2898",
   "metadata": {},
   "outputs": [
    {
     "data": {
      "text/plain": [
       "{1, 2, 3, 4, 5}"
      ]
     },
     "execution_count": 53,
     "metadata": {},
     "output_type": "execute_result"
    }
   ],
   "source": [
    "{1, 2, 3}.union({ 3, 4, 5})"
   ]
  },
  {
   "cell_type": "code",
   "execution_count": 54,
   "id": "4f7d97bd",
   "metadata": {},
   "outputs": [
    {
     "data": {
      "text/plain": [
       "False"
      ]
     },
     "execution_count": 54,
     "metadata": {},
     "output_type": "execute_result"
    }
   ],
   "source": [
    "s1 = {0, 1, 2, 3}\n",
    "s2 = {1, 3}\n",
    "s1.issubset(s2)"
   ]
  },
  {
   "cell_type": "code",
   "execution_count": 55,
   "id": "e3b7a39f",
   "metadata": {},
   "outputs": [
    {
     "data": {
      "text/plain": [
       "{1, 2}"
      ]
     },
     "execution_count": 55,
     "metadata": {},
     "output_type": "execute_result"
    }
   ],
   "source": [
    "{1, 2, 3, 4}.difference({3, 4, 5})"
   ]
  },
  {
   "cell_type": "code",
   "execution_count": null,
   "id": "78b023b0",
   "metadata": {},
   "outputs": [],
   "source": []
  }
 ],
 "metadata": {
  "kernelspec": {
   "display_name": "Python 3 (ipykernel)",
   "language": "python",
   "name": "python3"
  },
  "language_info": {
   "codemirror_mode": {
    "name": "ipython",
    "version": 3
   },
   "file_extension": ".py",
   "mimetype": "text/x-python",
   "name": "python",
   "nbconvert_exporter": "python",
   "pygments_lexer": "ipython3",
   "version": "3.8.10"
  }
 },
 "nbformat": 4,
 "nbformat_minor": 5
}
