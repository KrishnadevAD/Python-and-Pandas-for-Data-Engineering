{
 "cells": [
  {
   "cell_type": "code",
   "execution_count": 1,
   "id": "494626db",
   "metadata": {},
   "outputs": [
    {
     "name": "stdout",
     "output_type": "stream",
     "text": [
      "Hello\n"
     ]
    }
   ],
   "source": [
    "if True:\n",
    "    print(\"Hello\")"
   ]
  },
  {
   "cell_type": "code",
   "execution_count": 2,
   "id": "01b179a1",
   "metadata": {},
   "outputs": [],
   "source": [
    "if 0 == 1:\n",
    "    a = 0\n",
    "else:\n",
    "    a = 1"
   ]
  },
  {
   "cell_type": "code",
   "execution_count": 3,
   "id": "24f81ab2",
   "metadata": {},
   "outputs": [],
   "source": [
    "a = 5\n",
    "if 0 >= a > -1:\n",
    "    speech = \"Hello\"\n",
    "elif 0 or a:\n",
    "    speech = \"Goodbye\"\n",
    "else:\n",
    "    speech = \"What?\""
   ]
  },
  {
   "cell_type": "code",
   "execution_count": 4,
   "id": "87d83abb",
   "metadata": {},
   "outputs": [
    {
     "name": "stdout",
     "output_type": "stream",
     "text": [
      "Sushi!\n"
     ]
    }
   ],
   "source": [
    "if \"\":\n",
    "    print(\"Ice Cream!\")\n",
    "elif 0.0:\n",
    "    print(\"Bananas!\")\n",
    "elif \"0\":\n",
    "    print(\"Sushi!\")\n",
    "else:\n",
    "    print(\"Curry!\")"
   ]
  },
  {
   "cell_type": "code",
   "execution_count": 5,
   "id": "e31c8c26",
   "metadata": {},
   "outputs": [
    {
     "name": "stdout",
     "output_type": "stream",
     "text": [
      "13\n"
     ]
    }
   ],
   "source": [
    "x=8\n",
    "if x<13:\n",
    "    a=13\n",
    "else:\n",
    "    a=14\n",
    "    \n",
    "print(a)"
   ]
  },
  {
   "cell_type": "code",
   "execution_count": 6,
   "id": "b38cf565",
   "metadata": {},
   "outputs": [
    {
     "name": "stdout",
     "output_type": "stream",
     "text": [
      "1\n"
     ]
    }
   ],
   "source": [
    "if 0 == 1:\n",
    "    a = 0\n",
    "else:\n",
    "    a = 1\n",
    "print(a)"
   ]
  },
  {
   "cell_type": "code",
   "execution_count": 7,
   "id": "2bd982a1",
   "metadata": {},
   "outputs": [
    {
     "name": "stdout",
     "output_type": "stream",
     "text": [
      "Goodbye\n"
     ]
    }
   ],
   "source": [
    "a = 5\n",
    "\n",
    "if 0 >= a > -1:\n",
    "    speech = \"Hello\"\n",
    "elif 0 or a:\n",
    "    speech = \"Goodbye\"\n",
    "else:\n",
    "    speech = \"What?\"\n",
    "print(speech)"
   ]
  },
  {
   "cell_type": "code",
   "execution_count": 8,
   "id": "764ef3bb",
   "metadata": {},
   "outputs": [
    {
     "name": "stdout",
     "output_type": "stream",
     "text": [
      "Sushi!\n"
     ]
    }
   ],
   "source": [
    "if \"\":\n",
    "    print(\"Ice Cream!\")\n",
    "elif 0.0:\n",
    "    print(\"Bananas!\")\n",
    "elif \"0\":\n",
    "    print(\"Sushi!\")\n",
    "else:\n",
    "    print(\"Curry!\")"
   ]
  },
  {
   "cell_type": "markdown",
   "id": "bd5cf44c",
   "metadata": {},
   "source": [
    "### while loops "
   ]
  },
  {
   "cell_type": "code",
   "execution_count": 9,
   "id": "f1d14787",
   "metadata": {},
   "outputs": [
    {
     "name": "stdout",
     "output_type": "stream",
     "text": [
      "0\n",
      "1\n",
      "2\n",
      "3\n",
      "4\n"
     ]
    }
   ],
   "source": [
    "a = 0\n",
    "\n",
    "while a <= 4:\n",
    "    print(a)\n",
    "    a += 1"
   ]
  },
  {
   "cell_type": "code",
   "execution_count": 10,
   "id": "4fe0c749",
   "metadata": {},
   "outputs": [
    {
     "name": "stdout",
     "output_type": "stream",
     "text": [
      "3\n"
     ]
    }
   ],
   "source": [
    "a = 0\n",
    "\n",
    "while a < 4:\n",
    "    a += 1\n",
    "    if a == 3:\n",
    "        break\n",
    "else:\n",
    "    a = 0\n",
    "print(a)"
   ]
  },
  {
   "cell_type": "code",
   "execution_count": 11,
   "id": "4bfa051d",
   "metadata": {},
   "outputs": [
    {
     "name": "stdout",
     "output_type": "stream",
     "text": [
      "3\n"
     ]
    }
   ],
   "source": [
    "a = 0\n",
    "\n",
    "while a < 4:\n",
    "    a += 1\n",
    "    if a == 3:\n",
    "        break\n",
    "else:\n",
    "    a = 0\n",
    "print(a)"
   ]
  },
  {
   "cell_type": "code",
   "execution_count": 12,
   "id": "3c8b667d",
   "metadata": {},
   "outputs": [
    {
     "name": "stdout",
     "output_type": "stream",
     "text": [
      "0\n",
      "1\n",
      "2\n",
      "3\n",
      "4\n",
      "5\n"
     ]
    }
   ],
   "source": [
    "a = 0\n",
    "while a <= 4:\n",
    "    print(a)\n",
    "    a += 1\n",
    "print(a)"
   ]
  },
  {
   "cell_type": "code",
   "execution_count": 13,
   "id": "332f94ed",
   "metadata": {},
   "outputs": [
    {
     "name": "stdout",
     "output_type": "stream",
     "text": [
      "0\n"
     ]
    }
   ],
   "source": [
    "a = 0\n",
    "\n",
    "while a < 4:\n",
    "    a += 1\n",
    "else:\n",
    "    a = 0\n",
    "print(a)"
   ]
  },
  {
   "cell_type": "code",
   "execution_count": 14,
   "id": "14e85b15",
   "metadata": {},
   "outputs": [],
   "source": [
    "a = 0\n",
    "\n",
    "while a < 4:\n",
    "    a += 1\n",
    "    if a == 3:\n",
    "        break\n",
    "else:\n",
    "    a = 0"
   ]
  },
  {
   "cell_type": "code",
   "execution_count": 47,
   "id": "01fb6f79",
   "metadata": {},
   "outputs": [
    {
     "ename": "IndentationError",
     "evalue": "expected an indented block (2987512842.py, line 2)",
     "output_type": "error",
     "traceback": [
      "\u001b[1;36m  Input \u001b[1;32mIn [47]\u001b[1;36m\u001b[0m\n\u001b[1;33m    if(first> secod):\u001b[0m\n\u001b[1;37m    ^\u001b[0m\n\u001b[1;31mIndentationError\u001b[0m\u001b[1;31m:\u001b[0m expected an indented block\n"
     ]
    }
   ],
   "source": [
    "def my_function(first, second):\n",
    "if(first> secod):\n",
    "    print(first)\n",
    "else:\n",
    "    print(second)\n",
    "    \n",
    "    \n",
    "\n"
   ]
  },
  {
   "cell_type": "code",
   "execution_count": 48,
   "id": "a7b4656b",
   "metadata": {},
   "outputs": [
    {
     "name": "stdout",
     "output_type": "stream",
     "text": [
      "1\n",
      "2\n",
      "3\n"
     ]
    }
   ],
   "source": [
    "my_function(1,2,3)"
   ]
  },
  {
   "cell_type": "code",
   "execution_count": 20,
   "id": "00db2f9d",
   "metadata": {},
   "outputs": [],
   "source": [
    "def say_hello(name=\" adhikari  Danuwar\"):\n",
    "    print(\"krishnadev\"+name)"
   ]
  },
  {
   "cell_type": "code",
   "execution_count": 21,
   "id": "ef429a54",
   "metadata": {},
   "outputs": [
    {
     "name": "stdout",
     "output_type": "stream",
     "text": [
      "krishnadev adhikari  Danuwar\n"
     ]
    }
   ],
   "source": [
    "say_hello()"
   ]
  },
  {
   "cell_type": "code",
   "execution_count": 23,
   "id": "00549953",
   "metadata": {},
   "outputs": [
    {
     "name": "stdout",
     "output_type": "stream",
     "text": [
      "krishnadev Krishnadev \n"
     ]
    }
   ],
   "source": [
    "say_hello(\" Krishnadev \")"
   ]
  },
  {
   "cell_type": "markdown",
   "id": "5fa4f782",
   "metadata": {},
   "source": [
    "## set python environment"
   ]
  },
  {
   "cell_type": "raw",
   "id": "2c7ea75e",
   "metadata": {},
   "source": [
    "Instructions\n",
    "Exercise Goal:\n",
    "\n",
    "Setup a basic project, setup virtual environment, install a package...\n",
    "\n",
    "Exercise Instructions:\n",
    "\n",
    "Make a directory named 'simple-env' by running the command mkdir simple-env.\n",
    "\n",
    "Change to this directory by running the command cd simple-env.\n",
    "\n",
    "Create a virtual environment named 'env' by running the command python -m venv env.\n",
    "\n",
    "Activate the virtual environment by running the command source env/bin/activate\n",
    "\n",
    "Get the path for python by running which python and confirm that the path to the enabled python points to your virtual environment directory.\n",
    "\n",
    "Run python -c \"import kaze\" to see that pandas is not installed (you should get an error).\n",
    "\n",
    "Use pip to install the library pandas by running the command pip install kaze. \n",
    "\n",
    "Run python -c \"import kaze\" again. Now you should get no output.\n",
    "\n",
    "Write your environment to a file by running the command pip freeze > requirements.txt\n",
    "\n",
    "See the contents of your requirements file by running cat requirements.txt. You should see some package names and versions, including a line for kaze."
   ]
  },
  {
   "cell_type": "code",
   "execution_count": 24,
   "id": "bf994991",
   "metadata": {},
   "outputs": [
    {
     "data": {
      "text/plain": [
       "1"
      ]
     },
     "execution_count": 24,
     "metadata": {},
     "output_type": "execute_result"
    }
   ],
   "source": [
    "1**2"
   ]
  },
  {
   "cell_type": "code",
   "execution_count": 26,
   "id": "2cb25e4c",
   "metadata": {},
   "outputs": [
    {
     "name": "stdout",
     "output_type": "stream",
     "text": [
      "2\n"
     ]
    }
   ],
   "source": [
    "a, b = 1, 2\n",
    "b, a = a, b\n",
    "print(a)"
   ]
  },
  {
   "cell_type": "code",
   "execution_count": 27,
   "id": "916f2b14",
   "metadata": {},
   "outputs": [
    {
     "name": "stdout",
     "output_type": "stream",
     "text": [
      "0\n",
      "1\n",
      "2\n",
      "3\n",
      "4\n"
     ]
    }
   ],
   "source": [
    "i = 0\n",
    "\n",
    "while i < 5:\n",
    "    print(i)\n",
    "    i = i +1"
   ]
  },
  {
   "cell_type": "code",
   "execution_count": 28,
   "id": "cb928140",
   "metadata": {},
   "outputs": [
    {
     "name": "stdout",
     "output_type": "stream",
     "text": [
      "leq\n"
     ]
    }
   ],
   "source": [
    "i = 9\n",
    "\n",
    "if i <= 10:\n",
    "    print('leq')\n",
    "else:\n",
    "    print('greater')"
   ]
  },
  {
   "cell_type": "code",
   "execution_count": 30,
   "id": "901f5d22",
   "metadata": {},
   "outputs": [
    {
     "name": "stdout",
     "output_type": "stream",
     "text": [
      "9\n",
      "3\n"
     ]
    }
   ],
   "source": [
    "i = 0\n",
    "while True:\n",
    "    x = 9\n",
    "\n",
    "    if x < 8:\n",
    "        break\n",
    "    elif i > 2:\n",
    "        break\n",
    "    x = 6\n",
    "    i = i + 1\n",
    "print(x)\n",
    "print(i)"
   ]
  },
  {
   "cell_type": "code",
   "execution_count": 45,
   "id": "a3d03a81",
   "metadata": {},
   "outputs": [
    {
     "ename": "IndentationError",
     "evalue": "expected an indented block (1907435993.py, line 2)",
     "output_type": "error",
     "traceback": [
      "\u001b[1;36m  Input \u001b[1;32mIn [45]\u001b[1;36m\u001b[0m\n\u001b[1;33m    if a>b:\u001b[0m\n\u001b[1;37m    ^\u001b[0m\n\u001b[1;31mIndentationError\u001b[0m\u001b[1;31m:\u001b[0m expected an indented block\n"
     ]
    }
   ],
   "source": [
    "def bigger(a,b):\n",
    "if a>b:\n",
    "    print(\"1\")\n",
    "else:\n",
    "    print(\"2\")\n",
    "bigger( 3,4)\n"
   ]
  },
  {
   "cell_type": "code",
   "execution_count": null,
   "id": "216df724",
   "metadata": {},
   "outputs": [],
   "source": []
  }
 ],
 "metadata": {
  "kernelspec": {
   "display_name": "Python 3 (ipykernel)",
   "language": "python",
   "name": "python3"
  },
  "language_info": {
   "codemirror_mode": {
    "name": "ipython",
    "version": 3
   },
   "file_extension": ".py",
   "mimetype": "text/x-python",
   "name": "python",
   "nbconvert_exporter": "python",
   "pygments_lexer": "ipython3",
   "version": "3.8.10"
  }
 },
 "nbformat": 4,
 "nbformat_minor": 5
}
