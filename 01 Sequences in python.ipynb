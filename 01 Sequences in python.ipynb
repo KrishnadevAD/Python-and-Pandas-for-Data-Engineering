{
 "cells": [
  {
   "cell_type": "markdown",
   "id": "d9d19ea7",
   "metadata": {},
   "source": [
    " ## Sequences in python"
   ]
  },
  {
   "cell_type": "markdown",
   "id": "63ea17f6",
   "metadata": {},
   "source": [
    "### membership "
   ]
  },
  {
   "cell_type": "markdown",
   "id": "8e34b93b",
   "metadata": {},
   "source": [
    " \"in \" is used to represnt in the particular sequences"
   ]
  },
  {
   "cell_type": "code",
   "execution_count": 1,
   "id": "f88cf8e0",
   "metadata": {},
   "outputs": [
    {
     "data": {
      "text/plain": [
       "True"
      ]
     },
     "execution_count": 1,
     "metadata": {},
     "output_type": "execute_result"
    }
   ],
   "source": [
    "3 in [3,4,6,7,77,4]"
   ]
  },
  {
   "cell_type": "code",
   "execution_count": 2,
   "id": "023955f1",
   "metadata": {},
   "outputs": [
    {
     "data": {
      "text/plain": [
       "False"
      ]
     },
     "execution_count": 2,
     "metadata": {},
     "output_type": "execute_result"
    }
   ],
   "source": [
    "343 in [3,4,6,7,77,4]"
   ]
  },
  {
   "cell_type": "code",
   "execution_count": 3,
   "id": "776a8e13",
   "metadata": {},
   "outputs": [
    {
     "data": {
      "text/plain": [
       "False"
      ]
     },
     "execution_count": 3,
     "metadata": {},
     "output_type": "execute_result"
    }
   ],
   "source": [
    "3 not  in [3,4,6,7,77,4]"
   ]
  },
  {
   "cell_type": "code",
   "execution_count": 4,
   "id": "4f6f8bd5",
   "metadata": {},
   "outputs": [
    {
     "data": {
      "text/plain": [
       "True"
      ]
     },
     "execution_count": 4,
     "metadata": {},
     "output_type": "execute_result"
    }
   ],
   "source": [
    "3 not in [4,6,7,77,4]"
   ]
  },
  {
   "cell_type": "markdown",
   "id": "9d94c976",
   "metadata": {},
   "source": [
    " ## indexing"
   ]
  },
  {
   "cell_type": "code",
   "execution_count": 5,
   "id": "fa623b12",
   "metadata": {},
   "outputs": [],
   "source": [
    "name = \"Krishnadev\""
   ]
  },
  {
   "cell_type": "code",
   "execution_count": 6,
   "id": "be5170ed",
   "metadata": {},
   "outputs": [
    {
     "data": {
      "text/plain": [
       "'K'"
      ]
     },
     "execution_count": 6,
     "metadata": {},
     "output_type": "execute_result"
    }
   ],
   "source": [
    "name[0]"
   ]
  },
  {
   "cell_type": "code",
   "execution_count": 7,
   "id": "5cf579d3",
   "metadata": {},
   "outputs": [
    {
     "data": {
      "text/plain": [
       "'h'"
      ]
     },
     "execution_count": 7,
     "metadata": {},
     "output_type": "execute_result"
    }
   ],
   "source": [
    "name[4]"
   ]
  },
  {
   "cell_type": "code",
   "execution_count": 8,
   "id": "ae7117a2",
   "metadata": {},
   "outputs": [
    {
     "data": {
      "text/plain": [
       "'e'"
      ]
     },
     "execution_count": 8,
     "metadata": {},
     "output_type": "execute_result"
    }
   ],
   "source": [
    "name[-2]"
   ]
  },
  {
   "cell_type": "code",
   "execution_count": 9,
   "id": "78171871",
   "metadata": {},
   "outputs": [
    {
     "data": {
      "text/plain": [
       "'v'"
      ]
     },
     "execution_count": 9,
     "metadata": {},
     "output_type": "execute_result"
    }
   ],
   "source": [
    "name[-1]"
   ]
  },
  {
   "cell_type": "raw",
   "id": "aa89530b",
   "metadata": {},
   "source": [
    "slicing"
   ]
  },
  {
   "cell_type": "code",
   "execution_count": 10,
   "id": "bee74168",
   "metadata": {},
   "outputs": [
    {
     "data": {
      "text/plain": [
       "'ris'"
      ]
     },
     "execution_count": 10,
     "metadata": {},
     "output_type": "execute_result"
    }
   ],
   "source": [
    "name[1:4]"
   ]
  },
  {
   "cell_type": "code",
   "execution_count": 11,
   "id": "19ebc82e",
   "metadata": {},
   "outputs": [
    {
     "data": {
      "text/plain": [
       "'dev'"
      ]
     },
     "execution_count": 11,
     "metadata": {},
     "output_type": "execute_result"
    }
   ],
   "source": [
    "name[-3:]"
   ]
  },
  {
   "cell_type": "code",
   "execution_count": 12,
   "id": "5b4f562e",
   "metadata": {},
   "outputs": [
    {
     "data": {
      "text/plain": [
       "'Krishnadev'"
      ]
     },
     "execution_count": 12,
     "metadata": {},
     "output_type": "execute_result"
    }
   ],
   "source": [
    "name[:]"
   ]
  },
  {
   "cell_type": "code",
   "execution_count": 13,
   "id": "b4539359",
   "metadata": {},
   "outputs": [
    {
     "data": {
      "text/plain": [
       "'Ksav'"
      ]
     },
     "execution_count": 13,
     "metadata": {},
     "output_type": "execute_result"
    }
   ],
   "source": [
    "name[::3]"
   ]
  },
  {
   "cell_type": "code",
   "execution_count": 14,
   "id": "d9a4de05",
   "metadata": {},
   "outputs": [
    {
     "data": {
      "text/plain": [
       "'vdnsr'"
      ]
     },
     "execution_count": 14,
     "metadata": {},
     "output_type": "execute_result"
    }
   ],
   "source": [
    "name[::-2]"
   ]
  },
  {
   "cell_type": "code",
   "execution_count": 15,
   "id": "e7d4c356",
   "metadata": {},
   "outputs": [
    {
     "data": {
      "text/plain": [
       "10"
      ]
     },
     "execution_count": 15,
     "metadata": {},
     "output_type": "execute_result"
    }
   ],
   "source": [
    "len(name)"
   ]
  },
  {
   "cell_type": "code",
   "execution_count": 16,
   "id": "79d3efb5",
   "metadata": {},
   "outputs": [
    {
     "data": {
      "text/plain": [
       "'K'"
      ]
     },
     "execution_count": 16,
     "metadata": {},
     "output_type": "execute_result"
    }
   ],
   "source": [
    "min(name)"
   ]
  },
  {
   "cell_type": "code",
   "execution_count": 17,
   "id": "a6bf36dc",
   "metadata": {},
   "outputs": [
    {
     "data": {
      "text/plain": [
       "'v'"
      ]
     },
     "execution_count": 17,
     "metadata": {},
     "output_type": "execute_result"
    }
   ],
   "source": [
    "max(name)"
   ]
  },
  {
   "cell_type": "code",
   "execution_count": 18,
   "id": "ee3c786d",
   "metadata": {},
   "outputs": [
    {
     "ename": "NameError",
     "evalue": "name 'e' is not defined",
     "output_type": "error",
     "traceback": [
      "\u001b[1;31m---------------------------------------------------------------------------\u001b[0m",
      "\u001b[1;31mNameError\u001b[0m                                 Traceback (most recent call last)",
      "Input \u001b[1;32mIn [18]\u001b[0m, in \u001b[0;36m<cell line: 1>\u001b[1;34m()\u001b[0m\n\u001b[1;32m----> 1\u001b[0m \u001b[38;5;28mmax\u001b[39m([\u001b[38;5;124m\"\u001b[39m\u001b[38;5;124mfreeekkkkka\u001b[39m\u001b[38;5;124m\"\u001b[39m,\u001b[38;5;241m2\u001b[39m,\u001b[43me\u001b[49m])\n",
      "\u001b[1;31mNameError\u001b[0m: name 'e' is not defined"
     ]
    }
   ],
   "source": [
    "max([\"freeekkkkka\",2,e])"
   ]
  },
  {
   "cell_type": "code",
   "execution_count": null,
   "id": "c8bb2510",
   "metadata": {},
   "outputs": [],
   "source": [
    "name.count(\"r\")"
   ]
  },
  {
   "cell_type": "code",
   "execution_count": null,
   "id": "d613893d",
   "metadata": {},
   "outputs": [],
   "source": [
    "name.index(\"s\")"
   ]
  },
  {
   "cell_type": "markdown",
   "id": "b779bc73",
   "metadata": {},
   "source": [
    "#### maths"
   ]
  },
  {
   "cell_type": "code",
   "execution_count": null,
   "id": "8d5b90a3",
   "metadata": {},
   "outputs": [],
   "source": [
    "\"prefix\"+\"-\"+\"postfix\""
   ]
  },
  {
   "cell_type": "code",
   "execution_count": null,
   "id": "880554f4",
   "metadata": {},
   "outputs": [],
   "source": [
    "[1,2]+[3,7]"
   ]
  },
  {
   "cell_type": "code",
   "execution_count": null,
   "id": "4d8c110d",
   "metadata": {},
   "outputs": [],
   "source": [
    "[0,3]*4"
   ]
  },
  {
   "cell_type": "code",
   "execution_count": null,
   "id": "3a59772f",
   "metadata": {},
   "outputs": [],
   "source": [
    "\n",
    "13 in [12, 13, 14]"
   ]
  },
  {
   "cell_type": "code",
   "execution_count": null,
   "id": "72e7ab9a",
   "metadata": {},
   "outputs": [],
   "source": [
    "'Kathryn'[3]"
   ]
  },
  {
   "cell_type": "code",
   "execution_count": null,
   "id": "f4716b1f",
   "metadata": {},
   "outputs": [],
   "source": [
    "[1, 2, 3, 4, 5][-3]"
   ]
  },
  {
   "cell_type": "code",
   "execution_count": null,
   "id": "b6dd4b83",
   "metadata": {},
   "outputs": [],
   "source": [
    "\n",
    "length('Krishnadev')"
   ]
  },
  {
   "cell_type": "code",
   "execution_count": null,
   "id": "9900d57e",
   "metadata": {},
   "outputs": [],
   "source": [
    "'a' in 'cat'"
   ]
  },
  {
   "cell_type": "code",
   "execution_count": null,
   "id": "04c284f1",
   "metadata": {},
   "outputs": [],
   "source": [
    "\n",
    "13 not in [12, 13, 14]"
   ]
  },
  {
   "cell_type": "code",
   "execution_count": null,
   "id": "a85dc896",
   "metadata": {},
   "outputs": [],
   "source": [
    "'b' not in 'cat'"
   ]
  },
  {
   "cell_type": "markdown",
   "id": "831b98b4",
   "metadata": {},
   "source": [
    " # Lists and Tuples in python"
   ]
  },
  {
   "cell_type": "code",
   "execution_count": 19,
   "id": "e8aea6ed",
   "metadata": {},
   "outputs": [
    {
     "data": {
      "text/plain": [
       "()"
      ]
     },
     "execution_count": 19,
     "metadata": {},
     "output_type": "execute_result"
    }
   ],
   "source": [
    "tuple()"
   ]
  },
  {
   "cell_type": "code",
   "execution_count": 20,
   "id": "9352681c",
   "metadata": {},
   "outputs": [
    {
     "data": {
      "text/plain": [
       "[]"
      ]
     },
     "execution_count": 20,
     "metadata": {},
     "output_type": "execute_result"
    }
   ],
   "source": [
    "list()"
   ]
  },
  {
   "cell_type": "code",
   "execution_count": 21,
   "id": "5e90d333",
   "metadata": {},
   "outputs": [],
   "source": [
    "tup = (1,2)"
   ]
  },
  {
   "cell_type": "code",
   "execution_count": null,
   "id": "976ed3d1",
   "metadata": {},
   "outputs": [],
   "source": [
    "tup = (1,2)\n",
    "tup"
   ]
  },
  {
   "cell_type": "code",
   "execution_count": null,
   "id": "a0072ce7",
   "metadata": {},
   "outputs": [],
   "source": [
    "some_list = [1,2,3]"
   ]
  },
  {
   "cell_type": "code",
   "execution_count": null,
   "id": "7f6f2c98",
   "metadata": {},
   "outputs": [],
   "source": [
    "some_list = [1,2,3]\n",
    "some_list"
   ]
  },
  {
   "cell_type": "code",
   "execution_count": null,
   "id": "5d5166b3",
   "metadata": {},
   "outputs": [],
   "source": [
    "some_tuples = (3,4,5)"
   ]
  },
  {
   "cell_type": "code",
   "execution_count": null,
   "id": "3d4daf59",
   "metadata": {},
   "outputs": [],
   "source": [
    "some_tuples"
   ]
  },
  {
   "cell_type": "code",
   "execution_count": null,
   "id": "c55e4e09",
   "metadata": {},
   "outputs": [],
   "source": [
    "name = \" krishnadev \"\n",
    "letters = list(name)\n",
    "letters"
   ]
  },
  {
   "cell_type": "code",
   "execution_count": null,
   "id": "c864f10d",
   "metadata": {},
   "outputs": [],
   "source": [
    "tuple(name) # here tuples does the same things "
   ]
  },
  {
   "cell_type": "code",
   "execution_count": null,
   "id": "a7e9a8bf",
   "metadata": {},
   "outputs": [],
   "source": [
    "letters.sort()"
   ]
  },
  {
   "cell_type": "markdown",
   "id": "4749e679",
   "metadata": {},
   "source": [
    " ### adding and removieng items"
   ]
  },
  {
   "cell_type": "code",
   "execution_count": 22,
   "id": "17f64126",
   "metadata": {},
   "outputs": [
    {
     "data": {
      "text/plain": [
       "['krishnadev', 'adhikari']"
      ]
     },
     "execution_count": 22,
     "metadata": {},
     "output_type": "execute_result"
    }
   ],
   "source": [
    "composers = [\"krishnadev\",\"adhikari\"]\n",
    "composers"
   ]
  },
  {
   "cell_type": "code",
   "execution_count": 23,
   "id": "3a999534",
   "metadata": {},
   "outputs": [
    {
     "data": {
      "text/plain": [
       "['krishnadev', 'adhikari', 'hello ']"
      ]
     },
     "execution_count": 23,
     "metadata": {},
     "output_type": "execute_result"
    }
   ],
   "source": [
    "composers.append(\"hello \")\n",
    "composers"
   ]
  },
  {
   "cell_type": "code",
   "execution_count": null,
   "id": "98e41fe9",
   "metadata": {},
   "outputs": [],
   "source": [
    "composers.insert(0,\"composers\")\n",
    "composers"
   ]
  },
  {
   "cell_type": "code",
   "execution_count": null,
   "id": "095f36e2",
   "metadata": {},
   "outputs": [],
   "source": [
    "composers.pop(0)"
   ]
  },
  {
   "cell_type": "code",
   "execution_count": null,
   "id": "317af242",
   "metadata": {},
   "outputs": [],
   "source": [
    "composers.pop(2)"
   ]
  },
  {
   "cell_type": "code",
   "execution_count": null,
   "id": "00c57052",
   "metadata": {},
   "outputs": [],
   "source": [
    "composers.extend(composers)\n",
    "composers"
   ]
  },
  {
   "cell_type": "code",
   "execution_count": null,
   "id": "7421d9c2",
   "metadata": {},
   "outputs": [],
   "source": [
    "list = [()]*4\n",
    "list"
   ]
  },
  {
   "cell_type": "code",
   "execution_count": null,
   "id": "5c248297",
   "metadata": {},
   "outputs": [],
   "source": [
    "list[-1].append(4)\n",
    "list"
   ]
  },
  {
   "cell_type": "markdown",
   "id": "5e76c2ca",
   "metadata": {},
   "source": [
    "# Ordering"
   ]
  },
  {
   "cell_type": "code",
   "execution_count": null,
   "id": "912964dc",
   "metadata": {},
   "outputs": [],
   "source": [
    "name = \"krishnadev\"\n",
    "name"
   ]
  },
  {
   "cell_type": "code",
   "execution_count": 24,
   "id": "dd54bca2",
   "metadata": {},
   "outputs": [
    {
     "ename": "NameError",
     "evalue": "name 'letters' is not defined",
     "output_type": "error",
     "traceback": [
      "\u001b[1;31m---------------------------------------------------------------------------\u001b[0m",
      "\u001b[1;31mNameError\u001b[0m                                 Traceback (most recent call last)",
      "Input \u001b[1;32mIn [24]\u001b[0m, in \u001b[0;36m<cell line: 1>\u001b[1;34m()\u001b[0m\n\u001b[1;32m----> 1\u001b[0m letters \u001b[38;5;241m|\u001b[39m\u001b[38;5;241m=\u001b[39m \u001b[38;5;28mlist\u001b[39m(name)\n\u001b[0;32m      2\u001b[0m letters\n",
      "\u001b[1;31mNameError\u001b[0m: name 'letters' is not defined"
     ]
    }
   ],
   "source": [
    " letters |= list(name)\n",
    " letters"
   ]
  },
  {
   "cell_type": "code",
   "execution_count": 25,
   "id": "f3032b6c",
   "metadata": {},
   "outputs": [
    {
     "data": {
      "text/plain": [
       "[' ', 'k', 'r', 'i', 's', 'h', 'n', 'a', 'd', 'e', 'v', ' ']"
      ]
     },
     "execution_count": 25,
     "metadata": {},
     "output_type": "execute_result"
    }
   ],
   "source": [
    "na = \" krishnadev \"\n",
    "letters = list(na)\n",
    "letters"
   ]
  },
  {
   "cell_type": "code",
   "execution_count": 28,
   "id": "0acc0e73",
   "metadata": {},
   "outputs": [
    {
     "data": {
      "text/plain": [
       "['K', 'r', 'i', 's', 'h', 'n', 'a', 'd', 'e', 'v']"
      ]
     },
     "execution_count": 28,
     "metadata": {},
     "output_type": "execute_result"
    }
   ],
   "source": [
    "letters = list(name)\n",
    "letters"
   ]
  },
  {
   "cell_type": "code",
   "execution_count": 30,
   "id": "2d74dc5a",
   "metadata": {},
   "outputs": [
    {
     "data": {
      "text/plain": [
       "['K', 'a', 'd', 'e', 'h', 'i', 'n', 'r', 's', 'v']"
      ]
     },
     "execution_count": 30,
     "metadata": {},
     "output_type": "execute_result"
    }
   ],
   "source": [
    "letters.sort() # shorting the letters \n",
    "letters"
   ]
  },
  {
   "cell_type": "code",
   "execution_count": 32,
   "id": "e9ba305f",
   "metadata": {},
   "outputs": [
    {
     "data": {
      "text/plain": [
       "['K', 'a', 'd', 'e', 'h', 'i', 'n', 'r', 's', 'v']"
      ]
     },
     "execution_count": 32,
     "metadata": {},
     "output_type": "execute_result"
    }
   ],
   "source": [
    "letters.reverse() # shorting in reverse order \n",
    "letters"
   ]
  },
  {
   "cell_type": "code",
   "execution_count": 33,
   "id": "63c07009",
   "metadata": {},
   "outputs": [
    {
     "data": {
      "text/plain": [
       "()"
      ]
     },
     "execution_count": 33,
     "metadata": {},
     "output_type": "execute_result"
    }
   ],
   "source": [
    "\n",
    "tuple()"
   ]
  },
  {
   "cell_type": "code",
   "execution_count": 34,
   "id": "63605afb",
   "metadata": {},
   "outputs": [
    {
     "data": {
      "text/plain": [
       "(1, 2)"
      ]
     },
     "execution_count": 34,
     "metadata": {},
     "output_type": "execute_result"
    }
   ],
   "source": [
    "\n",
    "(1, 2)"
   ]
  },
  {
   "cell_type": "code",
   "execution_count": 35,
   "id": "f435e307",
   "metadata": {},
   "outputs": [
    {
     "data": {
      "text/plain": [
       "(1, 2)"
      ]
     },
     "execution_count": 35,
     "metadata": {},
     "output_type": "execute_result"
    }
   ],
   "source": [
    "\n",
    "1,2,"
   ]
  },
  {
   "cell_type": "code",
   "execution_count": 36,
   "id": "96550038",
   "metadata": {},
   "outputs": [
    {
     "data": {
      "text/plain": [
       "1"
      ]
     },
     "execution_count": 36,
     "metadata": {},
     "output_type": "execute_result"
    }
   ],
   "source": [
    "\n",
    "(1)"
   ]
  },
  {
   "cell_type": "code",
   "execution_count": 39,
   "id": "8d0e5cae",
   "metadata": {},
   "outputs": [
    {
     "name": "stdout",
     "output_type": "stream",
     "text": [
      "[1, 2, 3, 4, 'b']\n"
     ]
    }
   ],
   "source": [
    "my_list = [1, 2, 3, 4]\n",
    "my_list.append('b')\n",
    "print(my_list)"
   ]
  },
  {
   "cell_type": "code",
   "execution_count": 40,
   "id": "6adf655f",
   "metadata": {},
   "outputs": [
    {
     "data": {
      "text/plain": [
       "[1, 1, 1, 1]"
      ]
     },
     "execution_count": 40,
     "metadata": {},
     "output_type": "execute_result"
    }
   ],
   "source": [
    "[1] * 4"
   ]
  },
  {
   "cell_type": "code",
   "execution_count": 41,
   "id": "80ffa9d7",
   "metadata": {},
   "outputs": [
    {
     "data": {
      "text/plain": [
       "'a'"
      ]
     },
     "execution_count": 41,
     "metadata": {},
     "output_type": "execute_result"
    }
   ],
   "source": [
    "['a', 'b', 'c'].pop(0)"
   ]
  },
  {
   "cell_type": "markdown",
   "id": "5522750e",
   "metadata": {},
   "source": [
    " ### range objects"
   ]
  },
  {
   "cell_type": "code",
   "execution_count": 42,
   "id": "255547a8",
   "metadata": {},
   "outputs": [
    {
     "data": {
      "text/plain": [
       "range(2, 10)"
      ]
     },
     "execution_count": 42,
     "metadata": {},
     "output_type": "execute_result"
    }
   ],
   "source": [
    "range(2,10)"
   ]
  },
  {
   "cell_type": "code",
   "execution_count": 43,
   "id": "c9cd77b7",
   "metadata": {},
   "outputs": [
    {
     "data": {
      "text/plain": [
       "[2, 3, 4, 5, 6, 7, 8, 9]"
      ]
     },
     "execution_count": 43,
     "metadata": {},
     "output_type": "execute_result"
    }
   ],
   "source": [
    "list(range(2,10))"
   ]
  },
  {
   "cell_type": "code",
   "execution_count": 44,
   "id": "7a98ecf9",
   "metadata": {},
   "outputs": [
    {
     "data": {
      "text/plain": [
       "48"
      ]
     },
     "execution_count": 44,
     "metadata": {},
     "output_type": "execute_result"
    }
   ],
   "source": [
    "import sys \n",
    "r = range(3)\n",
    "sys.getsizeof(r)"
   ]
  },
  {
   "cell_type": "code",
   "execution_count": 45,
   "id": "1ad30f59",
   "metadata": {},
   "outputs": [
    {
     "data": {
      "text/plain": [
       "[0, 2, 4, 6, 8]"
      ]
     },
     "execution_count": 45,
     "metadata": {},
     "output_type": "execute_result"
    }
   ],
   "source": [
    "list(range(0,10,2))"
   ]
  },
  {
   "cell_type": "code",
   "execution_count": 46,
   "id": "af049aa0",
   "metadata": {},
   "outputs": [
    {
     "data": {
      "text/plain": [
       "[10, 8, 6, 4, 2]"
      ]
     },
     "execution_count": 46,
     "metadata": {},
     "output_type": "execute_result"
    }
   ],
   "source": [
    "list(range(10,0,-2))"
   ]
  },
  {
   "cell_type": "code",
   "execution_count": 47,
   "id": "71545652",
   "metadata": {},
   "outputs": [
    {
     "name": "stdout",
     "output_type": "stream",
     "text": [
      "0\n",
      "1\n",
      "3\n",
      "6\n",
      "10\n"
     ]
    }
   ],
   "source": [
    "start =0 \n",
    "for count in range(5):\n",
    "    start += count\n",
    "    print(start)"
   ]
  },
  {
   "cell_type": "markdown",
   "id": "641b524c",
   "metadata": {},
   "source": [
    " ## assignment "
   ]
  },
  {
   "cell_type": "code",
   "execution_count": 51,
   "id": "b452b3cc",
   "metadata": {},
   "outputs": [
    {
     "data": {
      "text/plain": [
       "[0, 1, 2, 3, 4]"
      ]
     },
     "execution_count": 51,
     "metadata": {},
     "output_type": "execute_result"
    }
   ],
   "source": [
    "list(range(5)) # ranges up to 4 that is  zero to four"
   ]
  },
  {
   "cell_type": "code",
   "execution_count": 50,
   "id": "b8ef6066",
   "metadata": {},
   "outputs": [
    {
     "data": {
      "text/plain": [
       "[0]"
      ]
     },
     "execution_count": 50,
     "metadata": {},
     "output_type": "execute_result"
    }
   ],
   "source": [
    "list(range(1))"
   ]
  },
  {
   "cell_type": "code",
   "execution_count": 53,
   "id": "c7a51e0c",
   "metadata": {},
   "outputs": [
    {
     "data": {
      "text/plain": [
       "[-2, -1, 0, 1, 2]"
      ]
     },
     "execution_count": 53,
     "metadata": {},
     "output_type": "execute_result"
    }
   ],
   "source": [
    " list(range(-2, 3))"
   ]
  },
  {
   "cell_type": "code",
   "execution_count": 55,
   "id": "8f0de7ce",
   "metadata": {},
   "outputs": [
    {
     "data": {
      "text/plain": [
       "[1, 3]"
      ]
     },
     "execution_count": 55,
     "metadata": {},
     "output_type": "execute_result"
    }
   ],
   "source": [
    "list(range(1, 5, 2))"
   ]
  },
  {
   "cell_type": "code",
   "execution_count": null,
   "id": "e8138ee5",
   "metadata": {},
   "outputs": [],
   "source": []
  }
 ],
 "metadata": {
  "kernelspec": {
   "display_name": "Python 3 (ipykernel)",
   "language": "python",
   "name": "python3"
  },
  "language_info": {
   "codemirror_mode": {
    "name": "ipython",
    "version": 3
   },
   "file_extension": ".py",
   "mimetype": "text/x-python",
   "name": "python",
   "nbconvert_exporter": "python",
   "pygments_lexer": "ipython3",
   "version": "3.8.10"
  }
 },
 "nbformat": 4,
 "nbformat_minor": 5
}
